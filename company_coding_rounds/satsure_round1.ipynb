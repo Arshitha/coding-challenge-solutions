{
 "cells": [
  {
   "cell_type": "code",
   "execution_count": 1,
   "metadata": {},
   "outputs": [
    {
     "data": {
      "image/png": "[encoded data removed]",
      "text/plain": [
       "<Figure size 640x480 with 1 Axes>"
      ]
     },
     "metadata": {},
     "output_type": "display_data"
    }
   ],
   "source": [
    "import numpy as np\n",
    "import matplotlib.pyplot as plt\n",
    "from skimage.draw import rectangle, disk\n",
    "\n",
    "# Define dimensions of the image\n",
    "height, width = 20, 20\n",
    "image = np.zeros((height, width), dtype=int)\n",
    "\n",
    "\n",
    "def add_rectangle(image, top_left, bottom_right):\n",
    "    x1, y1 = top_left\n",
    "    x2, y2 = bottom_right\n",
    "    rr, cc = rectangle(start=(x1, y1), end=(x2, y2), shape=image.shape)\n",
    "    image[rr, cc] = 1\n",
    "\n",
    "# Helper function to add a circle\n",
    "def add_circle(image, center, radius):\n",
    "    rr, cc = disk(center=center, radius=radius, shape=image.shape)\n",
    "    image[rr, cc] = 2  # Using '2' for circles to differentiate shapes\n",
    "\n",
    "# Helper function to add an L-shape or other custom shapes\n",
    "def add_custom_shape(image, shape_coords, value=3):\n",
    "    for (x, y) in shape_coords:\n",
    "        if 0 <= x < image.shape[0] and 0 <= y < image.shape[1]:\n",
    "            image[x, y] = value\n",
    "\n",
    "# Adding shapes to the image\n",
    "add_rectangle(image, (2, 2), (5, 5))\n",
    "add_rectangle(image, (7, 7), (9, 9))\n",
    "add_circle(image, (10, 10), 3)\n",
    "add_rectangle(image, (14, 3), (17, 6))\n",
    "\n",
    "L_shape_coords = [(15, 15), (15, 16), (15, 17), (16, 15), (17, 15)]\n",
    "add_custom_shape(image, L_shape_coords, value=3)\n",
    "\n",
    "\n",
    "plt.imshow(image, cmap='gray', interpolation='nearest')\n",
    "plt.title(\"Generated 2D Image with Various Shapes\")\n",
    "plt.show()"
   ]
  },
  {
   "cell_type": "code",
   "execution_count": 2,
   "metadata": {},
   "outputs": [
    {
     "name": "stdout",
     "output_type": "stream",
     "text": [
      "[[0 0 0 0 0 0 0 0 0 0 0 0 0 0 0 0 0 0 0 0]\n",
      " [0 0 0 0 0 0 0 0 0 0 0 0 0 0 0 0 0 0 0 0]\n",
      " [0 0 1 1 1 1 0 0 0 0 0 0 0 0 0 0 0 0 0 0]\n",
      " [0 0 1 1 1 1 0 0 0 0 0 0 0 0 0 0 0 0 0 0]\n",
      " [0 0 1 1 1 1 0 0 0 0 0 0 0 0 0 0 0 0 0 0]\n",
      " [0 0 1 1 1 1 0 0 0 0 0 0 0 0 0 0 0 0 0 0]\n",
      " [0 0 0 0 0 0 0 0 0 0 0 0 0 0 0 0 0 0 0 0]\n",
      " [0 0 0 0 0 0 0 1 1 1 0 0 0 0 0 0 0 0 0 0]\n",
      " [0 0 0 0 0 0 0 1 2 2 2 2 2 0 0 0 0 0 0 0]\n",
      " [0 0 0 0 0 0 0 1 2 2 2 2 2 0 0 0 0 0 0 0]\n",
      " [0 0 0 0 0 0 0 0 2 2 2 2 2 0 0 0 0 0 0 0]\n",
      " [0 0 0 0 0 0 0 0 2 2 2 2 2 0 0 0 0 0 0 0]\n",
      " [0 0 0 0 0 0 0 0 2 2 2 2 2 0 0 0 0 0 0 0]\n",
      " [0 0 0 0 0 0 0 0 0 0 0 0 0 0 0 0 0 0 0 0]\n",
      " [0 0 0 1 1 1 1 0 0 0 0 0 0 0 0 0 0 0 0 0]\n",
      " [0 0 0 1 1 1 1 0 0 0 0 0 0 0 0 3 3 3 0 0]\n",
      " [0 0 0 1 1 1 1 0 0 0 0 0 0 0 0 3 0 0 0 0]\n",
      " [0 0 0 1 1 1 1 0 0 0 0 0 0 0 0 3 0 0 0 0]\n",
      " [0 0 0 0 0 0 0 0 0 0 0 0 0 0 0 0 0 0 0 0]\n",
      " [0 0 0 0 0 0 0 0 0 0 0 0 0 0 0 0 0 0 0 0]]\n"
     ]
    }
   ],
   "source": [
    "image.shape\n",
    "\n",
    "print(image)"
   ]
  },
  {
   "cell_type": "code",
   "execution_count": 3,
   "metadata": {},
   "outputs": [],
   "source": [
    "from collections import defaultdict\n",
    "rows = image.shape[0]\n",
    "objects = 0\n",
    "start_idx = None\n",
    "end_idx = None\n",
    "lookup_dict = defaultdict(list)\n",
    "for r in range(rows): # iterate through rows of the image\n",
    "  for idx_0, val_0 in enumerate(image[r]): # iterate over values in the row\n",
    "    if idx_0 > 0 and idx_0 < len(image[r]-1) and val_0 > 0: \n",
    "      if image[r][idx_0-1] == 0:       \n",
    "        start_idx = idx_0\n",
    "        lookup_dict[r].append((r, idx_0))\n",
    "      elif image[r][idx_0+1] == 0:\n",
    "        end_idx = idx_0\n",
    "        lookup_dict[r].append((r, idx_0))\n",
    "    # if start_idx and end_idx:\n",
    "    #   img_len = end_idx - start_idx + 1\n",
    "    #   print(img_len)\n",
    "    \n",
    "    # if r+1 < rows:\n",
    "    #   for idx_1, val_1 in enumerate(image[r+1]):\n",
    "    #     if idx_0 == idx_1 and val_0 > 0 and val_1 > 0:\n",
    "    #       if val_0!=val_1:\n",
    "    #         objects += 1"
   ]
  },
  {
   "cell_type": "code",
   "execution_count": 19,
   "metadata": {},
   "outputs": [
    {
     "name": "stdout",
     "output_type": "stream",
     "text": [
      "3 2\n",
      "4 3\n",
      "5 4\n",
      "here\n",
      "8 7\n",
      "9 8\n",
      "10 9\n",
      "11 10\n",
      "12 11\n",
      "here\n",
      "15 14\n",
      "16 15\n",
      "17 16\n"
     ]
    }
   ],
   "source": [
    "contiguous_rows = []\n",
    "tmp = set()\n",
    "keys_list = list(lookup_dict.keys())\n",
    "for idx, key in enumerate(keys_list):\n",
    "    if idx > 0 and idx <= len(keys_list):\n",
    "        if keys_list[idx - 1] == key - 1:\n",
    "            print(key, keys_list[idx - 1])\n",
    "            tmp.add(key)\n",
    "            tmp.add(keys_list[idx - 1])\n",
    "        else:\n",
    "            print('here')\n",
    "            contiguous_rows.append(tmp)\n",
    "            tmp = set()\n",
    "if tmp:\n",
    "    contiguous_rows.append(tmp)"
   ]
  },
  {
   "cell_type": "code",
   "execution_count": 13,
   "metadata": {},
   "outputs": [
    {
     "data": {
      "text/plain": [
       "defaultdict(list,\n",
       "            {2: [(2, 2), (2, 5)],\n",
       "             3: [(3, 2), (3, 5)],\n",
       "             4: [(4, 2), (4, 5)],\n",
       "             5: [(5, 2), (5, 5)],\n",
       "             7: [(7, 7), (7, 9)],\n",
       "             8: [(8, 7), (8, 12)],\n",
       "             9: [(9, 7), (9, 12)],\n",
       "             10: [(10, 8), (10, 12)],\n",
       "             11: [(11, 8), (11, 12)],\n",
       "             12: [(12, 8), (12, 12)],\n",
       "             14: [(14, 3), (14, 6)],\n",
       "             15: [(15, 3), (15, 6), (15, 15), (15, 17)],\n",
       "             16: [(16, 3), (16, 6), (16, 15)],\n",
       "             17: [(17, 3), (17, 6), (17, 15)]})"
      ]
     },
     "execution_count": 13,
     "metadata": {},
     "output_type": "execute_result"
    }
   ],
   "source": [
    "lookup_dict"
   ]
  },
  {
   "cell_type": "code",
   "execution_count": 17,
   "metadata": {},
   "outputs": [
    {
     "data": {
      "text/plain": [
       "[2, 3, 4, 5, 7, 8, 9, 10, 11, 12, 14, 15, 16, 17]"
      ]
     },
     "execution_count": 17,
     "metadata": {},
     "output_type": "execute_result"
    }
   ],
   "source": [
    "keys_list"
   ]
  },
  {
   "cell_type": "code",
   "execution_count": 20,
   "metadata": {},
   "outputs": [
    {
     "data": {
      "text/plain": [
       "[{2, 3, 4, 5}, {7, 8, 9, 10, 11, 12}, {14, 15, 16, 17}]"
      ]
     },
     "execution_count": 20,
     "metadata": {},
     "output_type": "execute_result"
    }
   ],
   "source": [
    "contiguous_rows"
   ]
  },
  {
   "cell_type": "code",
   "execution_count": 21,
   "metadata": {},
   "outputs": [],
   "source": [
    "lower_obj_ct = len(contiguous_rows)"
   ]
  },
  {
   "cell_type": "code",
   "execution_count": null,
   "metadata": {},
   "outputs": [],
   "source": []
  }
 ],
 "metadata": {
  "kernelspec": {
   "display_name": "datasci",
   "language": "python",
   "name": "python3"
  },
  "language_info": {
   "codemirror_mode": {
    "name": "ipython",
    "version": 3
   },
   "file_extension": ".py",
   "mimetype": "text/x-python",
   "name": "python",
   "nbconvert_exporter": "python",
   "pygments_lexer": "ipython3",
   "version": "3.13.0"
  }
 },
 "nbformat": 4,
 "nbformat_minor": 2
}
